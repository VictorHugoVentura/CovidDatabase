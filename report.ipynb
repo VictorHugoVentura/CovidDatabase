{
 "cells": [
  {
   "cell_type": "code",
   "execution_count": 1,
   "id": "41c47370-9632-4908-b90f-14b5f4b72ec2",
   "metadata": {},
   "outputs": [],
   "source": [
    "import json\n",
    "import time\n",
    "import psycopg2\n",
    "import urllib.request\n",
    "import datetime\n",
    "\n",
    "from config import config\n",
    "\n",
    "ecdc_url = \"https://opendata.ecdc.europa.eu/covid19/nationalcasedeath/json\""
   ]
  },
  {
   "cell_type": "markdown",
   "id": "9817d43a-97d0-4a4b-b887-dd03dad331f3",
   "metadata": {
    "tags": []
   },
   "source": [
    "## Exercises 1 and 2\n",
    "\n",
    "The code in `pipeline.py` creates the database using the configurations from database.ini, it also creates and populates the tables for data source 1 (Covid data) and data source 2 (country data).\n",
    "\n",
    "We had to create a new CSV file because all the names of countries had trailing whitespace and the names sometimes differed between the JSON and CSV files (e.g. the US is the \"United States\" in the CSV while it is the \"United States Of America\" in the JSON, this discrepancy changes the answer of query 3).\n",
    "\n",
    "We also have to copy the CSV to `C:\\\\Users\\\\Public` because of permissions issues associated with the `COPY` command, because of this loading the CSV, and thus filling the second table only works on Windows. In Linux, the file would have to be copied to the `/tmp` folder.\n",
    "\n",
    "The greatest bottleneck and source of variance in the performance of the code in `pipeline.py` is the request made to the ECDC URL, it can take anywhere between 40 seconds and a several minutes to read, decode and deserialize the JSON file to a Python object. it also possible for the execution to exit with an imcomplete read exception, in this case we have a fallback JSON file in the repository which we use in case this exception is triggered and is updated when the data is succesfully read from the URL."
   ]
  },
  {
   "cell_type": "code",
   "execution_count": 7,
   "id": "0c54af99-27b8-48e7-b3c0-c6cfa0cbd921",
   "metadata": {},
   "outputs": [
    {
     "name": "stdout",
     "output_type": "stream",
     "text": [
      "Start Execution: 0.01s\n",
      "database \"covid_db\" already exists\n",
      "\n",
      "Created Database: 0.05s\n",
      "Retrieved data: 13.73s\n",
      "Created covid_stats table: 13.79s\n",
      "Filled covid_stats table: 24.5s\n",
      "Created country_stats table: 24.54s\n",
      "Filled country_stats table: 24.68s\n"
     ]
    }
   ],
   "source": [
    "# only works on Windows\n",
    "%run pipeline.py"
   ]
  },
  {
   "cell_type": "markdown",
   "id": "544fee10-f75e-4941-a750-6dcf93fc5c80",
   "metadata": {
    "tags": []
   },
   "source": [
    "## Exercises 3 and 4\n",
    "The view takes roughly 0.1 seconds to be created and while the other queries take a similar amount of time to execute, meaning the bottleneck of the system is reading the data from the ECDC URL. Still, it would improve performance if we didn't multiply the queries by 100000 or 1000000 since the order would be preserved.\n",
    "\n",
    "For query 4, the question asks to list the data for all regions, which is a column in the second dataset, for 31/07/2020. The view from exercise 3 was created with only the latest number of cases, so we create a second view in order to answer this query."
   ]
  },
  {
   "cell_type": "code",
   "execution_count": 1,
   "id": "e84f6b25-4450-4779-9fbe-f9af56851f2b",
   "metadata": {
    "tags": []
   },
   "outputs": [
    {
     "name": "stdout",
     "output_type": "stream",
     "text": [
      "Start execution: 0.0s\n",
      "Created view: 0.16s\n",
      "Query 1\n",
      "What is the country with the highest number of Covid-19 cases per 100 000 inhabitants at 31/07/2020?\n",
      "\n",
      "Answer 1\n",
      "The country with the highest case rate per 100000 in 31/07/2020 is Qatar with a case rate of 3856.46 per 100000.\n",
      "\n",
      "Answered in 0.17s\n",
      "\n",
      "Query 2\n",
      "What are the 10 countries with the lowest number of Covid-19 cases per 100 000 inhabitants at 31/07/2020?\n",
      "\n",
      "Answer 2\n",
      "The 10 countries with the lowest Covid-19 case rate per 100000 are Laos, Vietnam, Myanmar, United Republic Of Tanzania, Papua New Guinea, Cambodia, Timor Leste, Taiwan, Uganda, Fiji.\n",
      "\n",
      "Answered in 0.17s\n",
      "\n",
      "Query 3\n",
      "What are the top 10 countries with the highest number of cases among the top 20 richest countries (by GDP per capita)? (no date mentioned, assumed most recent)\n",
      "\n",
      "\n",
      "SELECT \"Country\", cumulative_count, \"GDP ($ per capita)\"\n",
      "FROM recent_cases\n",
      "WHERE \"GDP ($ per capita)\" IS NOT NULL\n",
      "ORDER BY cast(\"GDP ($ per capita)\" as int) DESC, cumulative_count\n",
      "LIMIT 20;\n",
      "\n",
      "Answer 3\n",
      "The 10 countries with the highest number of cases among the top 20 richest countries by GDP per capita are United States Of America, France, Germany, United Kingdom, Japan, Netherlands, Australia, Austria, Belgium, Canada.\n",
      "\n",
      "Answered in 0.19s\n",
      "\n",
      "query 4\n",
      "List all the regions with the number of cases per million of inhabitants and display information on population density, for 31/07/2020.\n",
      "\n",
      "Created second view: 0.19s\n",
      "\n",
      "                               Regions Covid density Pop density\n",
      "0                      NORTHERN AFRICA        975.81       26.82\n",
      "1          LATIN AMERICA AND CARIBBEAN       8954.27       27.40\n",
      "2              ASIA (EXCEPT NEAR EAST)        864.32      161.94\n",
      "3                              OCEANIA        624.53        3.74\n",
      "4                            NEAR EAST       5883.35       43.96\n",
      "5   COMMONWEALTH OF INDEPENDENT STATES       4574.93       12.73\n",
      "6                       WESTERN EUROPE       4167.12      106.81\n",
      "7                       EASTERN EUROPE       1534.21      105.38\n",
      "8                     NORTHERN AMERICA      14427.18       15.23\n",
      "9                              BALTICS       1322.62       41.05\n",
      "10                  SUB-SAHARAN AFRICA       1063.99       30.73\n"
     ]
    }
   ],
   "source": [
    "%run queries.py"
   ]
  },
  {
   "cell_type": "markdown",
   "id": "68a05b18-cf98-4269-8113-685bb1b7055a",
   "metadata": {},
   "source": [
    "## Exercise 5\n",
    "We had the idea of trying to find a URL that holds only the most recent data instead of the whole series, this would likely greatly increase the performance of the pipeline. Alas, we could not find such dataset in the right format and with the correct information (especifically, the 14-day notification rate per 100000 inhabitants).\n",
    "\n",
    "The second idea was to incorporate vaccination rates per country to the database, this was not done because we ran out of time."
   ]
  }
 ],
 "metadata": {
  "kernelspec": {
   "display_name": "Python 3 (ipykernel)",
   "language": "python",
   "name": "python3"
  },
  "language_info": {
   "codemirror_mode": {
    "name": "ipython",
    "version": 3
   },
   "file_extension": ".py",
   "mimetype": "text/x-python",
   "name": "python",
   "nbconvert_exporter": "python",
   "pygments_lexer": "ipython3",
   "version": "3.10.4"
  }
 },
 "nbformat": 4,
 "nbformat_minor": 5
}
